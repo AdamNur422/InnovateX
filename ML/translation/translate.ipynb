{
 "cells": [
  {
   "cell_type": "code",
   "execution_count": 1,
   "metadata": {},
   "outputs": [
    {
     "name": "stderr",
     "output_type": "stream",
     "text": [
      "c:\\Users\\adamn\\OneDrive\\Documents\\GitHub\\InnovateX\\.venv\\lib\\site-packages\\tqdm\\auto.py:21: TqdmWarning: IProgress not found. Please update jupyter and ipywidgets. See https://ipywidgets.readthedocs.io/en/stable/user_install.html\n",
      "  from .autonotebook import tqdm as notebook_tqdm\n"
     ]
    }
   ],
   "source": [
    "from transformers import AutoTokenizer, AutoModelForSeq2SeqLM\n",
    "\n",
    "model_name = 'Helsinki-NLP/opus-mt-en-fr'  \n",
    "tokenizer = AutoTokenizer.from_pretrained(model_name)\n",
    "model = AutoModelForSeq2SeqLM.from_pretrained(model_name)"
   ]
  },
  {
   "cell_type": "code",
   "execution_count": 2,
   "metadata": {},
   "outputs": [],
   "source": [
    "def translate_text(text, model, tokenizer):\n",
    "    tokenized_text = tokenizer([text], return_tensors='pt')\n",
    "    translated = model.generate(**tokenized_text)\n",
    "    translated_text = tokenizer.decode(translated[0], skip_special_tokens=True)\n",
    "    \n",
    "    return translated_text"
   ]
  },
  {
   "cell_type": "code",
   "execution_count": 4,
   "metadata": {},
   "outputs": [
    {
     "name": "stdout",
     "output_type": "stream",
     "text": [
      "Translated text: Au cœur de la ville animée, il y a un parc serein qui sert de retraite paisible pour les habitants et les visiteurs. Chaque matin, les joggeurs font leur chemin le long des sentiers sinueux, tandis que les enfants rigolent et jouent sur le terrain de jeux animé. Les vieux chênes offrent une grande ombrage, créant un endroit idéal pour lire ou profiter d'un pique-nique tranquille. Au coucher du soleil, le parc se transforme en une belle toile de couleurs, offrant un cadre magnifique pour les promenades du soir. C'est un endroit où la nature et la vie urbaine coexistent harmonieusement, offrant une évasion nécessaire de l'agitation quotidienne.\n"
     ]
    }
   ],
   "source": [
    "text = \"\"\"\n",
    "In the heart of the bustling city, there lies a serene park that serves as a peaceful retreat for both locals and visitors. \n",
    "Every morning, joggers make their way along the winding paths, while children laugh and play on the vibrant playground. \n",
    "The old oak trees provide ample shade, creating a perfect spot for reading or enjoying a quiet picnic. \n",
    "As the sun sets, the park transforms into a beautiful canvas of colors, offering a stunning backdrop for evening strolls. \n",
    "It's a place where nature and urban life harmoniously coexist, providing a much-needed escape from the daily hustle and bustle.\n",
    "\"\"\"\n",
    "translated_text = translate_text(text, model, tokenizer)\n",
    "print(f\"Translated text: {translated_text}\")"
   ]
  }
 ],
 "metadata": {
  "kernelspec": {
   "display_name": ".venv",
   "language": "python",
   "name": "python3"
  },
  "language_info": {
   "codemirror_mode": {
    "name": "ipython",
    "version": 3
   },
   "file_extension": ".py",
   "mimetype": "text/x-python",
   "name": "python",
   "nbconvert_exporter": "python",
   "pygments_lexer": "ipython3",
   "version": "3.9.0"
  }
 },
 "nbformat": 4,
 "nbformat_minor": 2
}
